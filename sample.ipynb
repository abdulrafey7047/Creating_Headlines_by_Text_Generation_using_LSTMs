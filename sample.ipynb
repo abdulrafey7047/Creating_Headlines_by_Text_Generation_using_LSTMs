{
 "cells": [
  {
   "cell_type": "code",
   "execution_count": null,
   "metadata": {},
   "outputs": [],
   "source": [
    "import os\n",
    "import numpy as np\n",
    "import pandas as pd\n",
    "\n",
    "from headline_generation.preprocessing import DataPreProcessor\n",
    "from headline_generation.model import HeadlineGenerator\n",
    "from headline_generation.utils import generate_embedding_matrix_from_file \n",
    "\n",
    "import tensorflow as tf\n",
    "from tensorflow.keras.layers import LSTM, Embedding, Dense, Dropout\n",
    "from tensorflow.keras.initializers import Constant\n",
    "\n",
    "## Running on CPU\n",
    "tf.config.set_visible_devices([], 'GPU')\n",
    "\n",
    "## To replicate the results\n",
    "from tensorflow.random import set_seed\n",
    "from numpy.random import seed\n",
    "\n",
    "set_seed(42)\n",
    "seed(42)\n"
   ]
  },
  {
   "cell_type": "markdown",
   "metadata": {},
   "source": [
    "## Loading Data"
   ]
  },
  {
   "cell_type": "code",
   "execution_count": null,
   "metadata": {},
   "outputs": [],
   "source": [
    "headlines = list()\n",
    "\n",
    "dataset_dir = 'dataset/'\n",
    "for filename in os.listdir(dataset_dir):\n",
    "    filepath = os.path.join(dataset_dir, filename)\n",
    "    if 'Article' in filename:\n",
    "        headlines.extend(pd.read_csv(filepath).headline.tolist())\n",
    "\n",
    "headline_lengths = list(map(len, list(map(str.split, headlines))))\n",
    "print(f'''\n",
    "    Number of Headlines: {len(headlines):,}\n",
    "    Maximum Headline length: {np.max(headline_lengths)}\n",
    "    Minimum Headline length: {np.min(headline_lengths)}\n",
    "    Average Headline length: {np.mean(headline_lengths):.2f}\n",
    "    STD of Headline length: {np.std(headline_lengths):.2f}\n",
    "''')\n"
   ]
  },
  {
   "cell_type": "markdown",
   "metadata": {},
   "source": [
    "## Preprocessing Data"
   ]
  },
  {
   "cell_type": "code",
   "execution_count": null,
   "metadata": {},
   "outputs": [],
   "source": [
    "out_of_vocabulary_token = '<OOV>'\n",
    "max_sentence_len = int(np.mean(headline_lengths) + (2 * np.std(headline_lengths)))\n",
    "padding_type = 'pre'"
   ]
  },
  {
   "cell_type": "code",
   "execution_count": null,
   "metadata": {},
   "outputs": [],
   "source": [
    "data_preprocessor = DataPreProcessor(headlines)\n",
    "\n",
    "data_preprocessor = data_preprocessor.clean_data()\n",
    "data_preprocessor = data_preprocessor.preprocess(out_of_vocabulary_token, max_sentence_len, padding_type)\n",
    "\n",
    "X, y = data_preprocessor.get_features_and_labels()"
   ]
  },
  {
   "cell_type": "code",
   "execution_count": null,
   "metadata": {},
   "outputs": [],
   "source": [
    "X.shape"
   ]
  },
  {
   "cell_type": "code",
   "execution_count": null,
   "metadata": {},
   "outputs": [],
   "source": [
    "y.shape"
   ]
  },
  {
   "cell_type": "markdown",
   "metadata": {},
   "source": [
    "## The Model"
   ]
  },
  {
   "cell_type": "markdown",
   "metadata": {},
   "source": [
    "### Hyper Parameters"
   ]
  },
  {
   "cell_type": "code",
   "execution_count": null,
   "metadata": {},
   "outputs": [],
   "source": [
    "vocab_size = len(data_preprocessor.vocab) + 2\n",
    "embedding_file_path = 'glove.6B/glove.6B.50d.txt'\n",
    "embedding_dim = 50\n",
    "sequence_len = max_sentence_len - 1\n",
    "dropout_rate = 0.2\n",
    "learning_rate = 0.01\n",
    "epochs = 100\n",
    "optimizer = 'adam'\n",
    "loss_fn = 'categorical_crossentropy'"
   ]
  },
  {
   "cell_type": "markdown",
   "metadata": {},
   "source": [
    "### Embedding Matrix"
   ]
  },
  {
   "cell_type": "code",
   "execution_count": null,
   "metadata": {},
   "outputs": [],
   "source": [
    "embedding_matrix, hits, misses = generate_embedding_matrix_from_file(\n",
    "    embedding_file_path, vocab_size, embedding_dim,\n",
    "    data_preprocessor.tokenizer.word_index\n",
    ")\n",
    "\n",
    "print(f'Found embeddings for {hits} words, could not find embeddings for {misses} words')"
   ]
  },
  {
   "cell_type": "markdown",
   "metadata": {},
   "source": [
    "### Model"
   ]
  },
  {
   "cell_type": "code",
   "execution_count": null,
   "metadata": {},
   "outputs": [],
   "source": [
    "layers = [\n",
    "    Embedding(\n",
    "        input_dim=vocab_size,\n",
    "        output_dim=embedding_dim,\n",
    "        input_length=sequence_len,\n",
    "        embeddings_initializer=Constant(embedding_matrix),\n",
    "        trainable=False\n",
    "    ),\n",
    "    LSTM(units=sequence_len, return_sequences=True),\n",
    "    Dropout(rate=dropout_rate),\n",
    "    LSTM(units=sequence_len),\n",
    "    Dense(units=64, activation='relu'),\n",
    "    Dropout(rate=dropout_rate),\n",
    "    Dense(units=vocab_size, activation='softmax')\n",
    "]"
   ]
  },
  {
   "cell_type": "code",
   "execution_count": null,
   "metadata": {},
   "outputs": [],
   "source": [
    "headline_generator = HeadlineGenerator()\n",
    "headline_generator.create(layers, loss_fn, optimizer)"
   ]
  },
  {
   "cell_type": "code",
   "execution_count": null,
   "metadata": {},
   "outputs": [],
   "source": [
    "headline_generator.train(X, y, epochs)"
   ]
  },
  {
   "cell_type": "code",
   "execution_count": null,
   "metadata": {},
   "outputs": [],
   "source": [
    "# headline_generator = HeadlineGenerator()\n",
    "# headline_generator.load_saved('headline_generator-11:25:34.h5')"
   ]
  },
  {
   "cell_type": "markdown",
   "metadata": {},
   "source": [
    "### Generating Headlines"
   ]
  },
  {
   "cell_type": "code",
   "execution_count": null,
   "metadata": {},
   "outputs": [],
   "source": [
    "headline_generator.generate_headline(\n",
    "    10,\n",
    "    sequence_len,\n",
    "    data_preprocessor.tokenizer,\n",
    "    word_sample_size=5, \n",
    "    initial_sentence='<START> Woman'\n",
    ")"
   ]
  }
 ],
 "metadata": {
  "kernelspec": {
   "display_name": "Python 3.10.6 ('data-science')",
   "language": "python",
   "name": "python3"
  },
  "language_info": {
   "codemirror_mode": {
    "name": "ipython",
    "version": 3
   },
   "file_extension": ".py",
   "mimetype": "text/x-python",
   "name": "python",
   "nbconvert_exporter": "python",
   "pygments_lexer": "ipython3",
   "version": "3.10.6"
  },
  "orig_nbformat": 4,
  "vscode": {
   "interpreter": {
    "hash": "e3bfd8a20af1d5d4753b5a38df58ddc27d816f3a7f519b02fcfafca237454594"
   }
  }
 },
 "nbformat": 4,
 "nbformat_minor": 2
}
